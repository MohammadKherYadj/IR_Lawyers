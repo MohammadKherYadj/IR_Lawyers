{
 "cells": [
  {
   "cell_type": "code",
   "execution_count": null,
   "metadata": {
    "id": "ls_7d4uCL_36"
   },
   "outputs": [
    {
     "name": "stderr",
     "output_type": "stream",
     "text": [
      "[nltk_data] Downloading package punkt to C:\\Users\\Mohammad\n",
      "[nltk_data]     Kher\\AppData\\Roaming\\nltk_data...\n",
      "[nltk_data]   Package punkt is already up-to-date!\n",
      "[nltk_data] Downloading package punkt_tab to C:\\Users\\Mohammad\n",
      "[nltk_data]     Kher\\AppData\\Roaming\\nltk_data...\n",
      "[nltk_data]   Package punkt_tab is already up-to-date!\n",
      "[nltk_data] Downloading package stopwords to C:\\Users\\Mohammad\n",
      "[nltk_data]     Kher\\AppData\\Roaming\\nltk_data...\n",
      "[nltk_data]   Package stopwords is already up-to-date!\n"
     ]
    },
    {
     "data": {
      "text/plain": [
       "True"
      ]
     },
     "execution_count": 7,
     "metadata": {},
     "output_type": "execute_result"
    }
   ],
   "source": [
    "import nltk\n",
    "from nltk.tokenize import word_tokenize\n",
    "from nltk.stem import PorterStemmer\n",
    "from nltk.corpus import stopwords\n",
    "import re\n",
    "from collections import defaultdict\n",
    "#from farasa.pos import FarasaPOSTagger\n",
    "\n",
    "nltk.download(\"punkt\")\n",
    "nltk.download(\"punkt_tab\")\n",
    "nltk.download(\"stopwords\")"
   ]
  },
  {
   "cell_type": "code",
   "execution_count": 10,
   "metadata": {},
   "outputs": [],
   "source": [
    "class Preprocessing_AR:\n",
    "  @staticmethod\n",
    "  def process(sentance):\n",
    "    sentance = Preprocessing_AR.remove_punctuation(sentance)\n",
    "    sentance = Preprocessing_AR.normalizer(sentance)\n",
    "    sentance = Preprocessing_AR.tokenizer(sentance)\n",
    "    sentance = Preprocessing_AR.remove_stopwords(sentance)\n",
    "    sentance = Preprocessing_AR.remove_deplicate(sentance)\n",
    "    sentance = Preprocessing_AR.stemmer(sentance)\n",
    "    \n",
    "    return sentance\n",
    "\n",
    "  @staticmethod\n",
    "  def tokenizer(sentance):\n",
    "    words = word_tokenize(sentance)\n",
    "    return words\n",
    "\n",
    "  @staticmethod\n",
    "  def normalizer(sentance):\n",
    "    sentance = re.sub(r\"[إأٱآا]\",\"ا\",sentance)\n",
    "    sentance = re.sub(r\"ي\",\"ى\",sentance)\n",
    "    sentance = re.sub(r\"ء\",\"ؤ\",sentance)\n",
    "    sentance = re.sub(r\"ء\",\"ئ\",sentance)\n",
    "    sentance = re.sub(r\"[^ا-ي]\",\" \",sentance)\n",
    "    sentance = re.sub(r\"ة\",\"ه\",sentance)\n",
    "    return sentance\n",
    "\n",
    "\n",
    "  @staticmethod\n",
    "  def remove_stopwords(sentance):\n",
    "    \n",
    "    stop_words = set(stopwords.words('arabic'))\n",
    "\n",
    "    sentance = [word for word in sentance if word not in stop_words]\n",
    "    return sentance\n",
    "\n",
    "  # @staticmethod\n",
    "  # def lemmatizer(sentance):\n",
    "  #   farasa_tagget = FarasaPOSTagger(interaction=True)\n",
    "  #   return sentance\n",
    "  \n",
    "  @staticmethod\n",
    "  def stemmer(sentance):\n",
    "    stemmer = PorterStemmer()\n",
    "    sentance = [stemmer.stem(word) for word in sentance]\n",
    "    return sentance\n",
    "\n",
    "  @staticmethod\n",
    "  def remove_punctuation(sentance):\n",
    "    return re.sub(r'[^ا-ي 0-9\\s]',' ',sentance)\n",
    "\n",
    "  @staticmethod\n",
    "  def remove_deplicate(sentance):\n",
    "    return list(set(sentance))"
   ]
  },
  {
   "cell_type": "code",
   "execution_count": 11,
   "metadata": {},
   "outputs": [
    {
     "data": {
      "text/plain": [
       "['عقارىه', 'فىما', 'قضىه', 'ال', 'جمىع', 'بىنهم', 'طراف', 'معقده', 'متنازعىن']"
      ]
     },
     "execution_count": 11,
     "metadata": {},
     "output_type": "execute_result"
    }
   ],
   "source": [
    "text = \"قضية عقارية معقدة جميع الأطراف متنازعين فيما بينهم\"\n",
    "Preprocessing_AR.process(text)"
   ]
  },
  {
   "cell_type": "code",
   "execution_count": null,
   "metadata": {},
   "outputs": [],
   "source": []
  }
 ],
 "metadata": {
  "colab": {
   "provenance": []
  },
  "kernelspec": {
   "display_name": "venv",
   "language": "python",
   "name": "python3"
  },
  "language_info": {
   "codemirror_mode": {
    "name": "ipython",
    "version": 3
   },
   "file_extension": ".py",
   "mimetype": "text/x-python",
   "name": "python",
   "nbconvert_exporter": "python",
   "pygments_lexer": "ipython3",
   "version": "3.12.5"
  }
 },
 "nbformat": 4,
 "nbformat_minor": 0
}
